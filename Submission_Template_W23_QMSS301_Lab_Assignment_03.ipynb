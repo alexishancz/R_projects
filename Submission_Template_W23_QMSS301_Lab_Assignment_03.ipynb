{
  "cells": [
    {
      "cell_type": "markdown",
      "source": [
        "Submission Details: This homework problem set consists of 2 problems. Use the PDF as a reference for the questions. All solutions (in Python Notebook, **LastName_FirstName_Assignment3.ipynb**) should be submitted via CANVAS before the deadline (**24 Feb 2023 at 5:00 PM**).\n",
        "\n",
        "*Best Coding Practices:*\n",
        "\n",
        "\n",
        "*   Having Proper Comments and Documentation\n",
        "*   Proper Naming of Variables, Classes, Functions and Modules\n"
      ],
      "metadata": {
        "id": "Sr8PMvut_S1b"
      }
    },
    {
      "cell_type": "markdown",
      "source": [
        "# Question 1 (Program Logic & Infinite Loops - 12 points):\n",
        "Complete the following tasks or answer the following questions."
      ],
      "metadata": {
        "id": "mCDs8oSa-RFP"
      }
    },
    {
      "cell_type": "markdown",
      "source": [
        "Write a program that reads in a list of exam scores and assigns grades to each student based on the following scale: A for scores between 90 and 100, B for scores between 80 and 89, C for scores between 70 and 79, D for scores between 60 and 69, and F for scores below 60. Use a for loop and an if/elif statement to implement the grading logic. **(3 points)**"
      ],
      "metadata": {
        "id": "-YtQYBZCL3Zk"
      }
    },
    {
      "cell_type": "code",
      "execution_count": null,
      "metadata": {
        "id": "_v4S4nzjekBO",
        "colab": {
          "base_uri": "https://localhost:8080/"
        },
        "outputId": "a3961cf4-2661-4c3e-ec27-91f7f10673da"
      },
      "outputs": [
        {
          "output_type": "stream",
          "name": "stdout",
          "text": [
            "Score: 85, Grade: B\n",
            "Score: 91, Grade: A\n",
            "Score: 77, Grade: C\n",
            "Score: 65, Grade: D\n",
            "Score: 99, Grade: A\n",
            "Score: 50, Grade: F\n"
          ]
        }
      ],
      "source": [
        "scores = [85, 91, 77, 65, 99, 50] #define a list of exam scores \n",
        "\n",
        "#usee a for loop to iterate over each score in the list:\n",
        "for score in scores: #defines loop variable \"score\" to iterate over values in the scores object\n",
        "    if score >= 90 and score <= 100: #checks for 90-100 stipulation \n",
        "        grade = 'A' #if fulfilled, assigns grade and moves to next iteration\n",
        "    elif score >= 80 and score <= 89: #checks for 80-89 stipulation \n",
        "        grade = 'B' #if fulfilled, assigns grade and moves to next iteration\n",
        "    elif score >= 70 and score <= 79: #checks for 70-79 stipulation \n",
        "        grade = 'C' #if fulfilled, assigns grade and moves to next iteration\n",
        "    elif score >= 60 and score <= 69: #checks for 60-69 stipulation \n",
        "        grade = 'D' #if fulfilled, assigns grade and moves to next iteration\n",
        "    else: #checks for anything lower \n",
        "        grade = 'F' ##if fulfilled, assigns grade\n",
        "\n",
        "#print out the score and its corresponding grade: \n",
        "        \n",
        "    print(f\"Score: {score}, Grade: {grade}\")"
      ]
    },
    {
      "cell_type": "markdown",
      "source": [
        "Write a program that uses a while loop to prompt the user to enter a number between 18 and 58. If the user enters a number outside of this range, the program should keep prompting them to enter a valid number. Once the user enters a valid number, the program should print ``Your Input: [number]\". **(3 points)**"
      ],
      "metadata": {
        "id": "UL7Na_neMB1r"
      }
    },
    {
      "cell_type": "code",
      "source": [
        "number = -1 #initialize the number variable to a number outside the range\n",
        "\n",
        "while not (18 <= number <= 58): #starts the while loop. we tell it the condition that \"number\" is not within range of 18 through 58\n",
        "                                #use not operator to invert the boolean value of (18 <= number <= 58)\n",
        "    try: #prompts you to enter a number and convert the input to an integer with int() function\n",
        "        number = int(input(\"Enter a number between 18 and 58: \"))\n",
        "        if not (18 <= number <= 58): #if number is not within range, print an error message w/ prompt \n",
        "            print(\"Number is outside range, try again.\")\n",
        "    except ValueError: #if non-integer value, print an error message w/ prompt \n",
        "        print(\"Invalid input, try again.\")\n",
        "\n",
        "print(f\"Your input: {number}\") #prints the entered number using an f-string once loop terminates "
      ],
      "metadata": {
        "id": "bR8p8yt5MIyT",
        "colab": {
          "base_uri": "https://localhost:8080/"
        },
        "outputId": "23cb6620-d136-463f-82a9-2e6f9ccb3716"
      },
      "execution_count": null,
      "outputs": [
        {
          "output_type": "stream",
          "name": "stdout",
          "text": [
            "Enter a number between 18 and 58: 5\n",
            "Number is outside range, try again.\n"
          ]
        }
      ]
    },
    {
      "cell_type": "markdown",
      "source": [
        "Write a program that prompts the user to enter a password. If the password is ``qmss301\", the program should print ``Access granted\". If the password is incorrect, the program should print ``Access denied\". Use an if/elif statement to check the password. **(3 points)**"
      ],
      "metadata": {
        "id": "9Jh45MgWMKCr"
      }
    },
    {
      "cell_type": "code",
      "source": [
        "password = input(\"Enter password: \") #use input() function to prompt the user to enter password, stored in \"password\" variable\n",
        "#if/else statement to check whether the password is correct or not: \n",
        "if password == \"qmss301\": #if password is \"qmss301\", we print \"Access granted\": \n",
        "    print(\"Access granted\")\n",
        "else: #if password is anything else, we print \"Access denied\":\n",
        "    print(\"Access denied\")"
      ],
      "metadata": {
        "id": "nl2uztcYMVWb"
      },
      "execution_count": null,
      "outputs": []
    },
    {
      "cell_type": "markdown",
      "source": [
        "Describe a real-life scenario where you would need to apply these logics in a software application or project. **(3 points)**"
      ],
      "metadata": {
        "id": "iBxND9q4MUmU"
      }
    },
    {
      "cell_type": "code",
      "source": [
        "#If I were to design a login system for retail workers' desktops,\\\n",
        "#I would use this programming logic in the software to verify whether a password matches\\\n",
        "#the password they used to create their account. For example, if someone enters an incorrect password,\\\n",
        "#I would want to use this programming to deny account access and communicate an error message\\\n",
        "#that tells them why they were denied and to try again. "
      ],
      "metadata": {
        "id": "9bD7xWM_Ncyk"
      },
      "execution_count": null,
      "outputs": []
    },
    {
      "cell_type": "markdown",
      "source": [
        "# Question 2 (Regression Fundamentals - 8 points): \n",
        "\n",
        "Using the sample.csv (provided in CANVAS), complete the following tasks. You will likely need to consult the statsmodels documentation."
      ],
      "metadata": {
        "id": "-rzzwTyn-Ht8"
      }
    },
    {
      "cell_type": "markdown",
      "source": [
        "Write a program that reads ``sample.csv\" file containing two columns of data (xData and yData) and fits a linear regression model to the data using the statsmodels.api.OLS class. The program should print the slope and intercept of the regression line, as well as the R-squared value. **(5 points)**"
      ],
      "metadata": {
        "id": "5-y0HOvVNJVd"
      }
    },
    {
      "cell_type": "code",
      "source": [
        "# Importing the necessary Python Libraries \n",
        "import pandas as pd\n",
        "import numpy as np\n",
        "import matplotlib.pyplot as plt\n",
        "import seaborn as sns\n",
        "import statsmodels.api as sm\n",
        "from statsmodels.formula.api import ols\n",
        "\n",
        "df = pd.read_csv(\"sample (1).csv\") #load data from CSV file into a pandas dataframe\n",
        "\n",
        "if \"xData\" in df.columns and \"yData\" in df.columns: #checks if xData and yData columns are in the dataframe\n",
        "    #separate xData and yData columns:\n",
        "    xData = df[\"xData\"]\n",
        "    yData = df[\"yData\"]\n",
        "\n",
        "    xData = sm.add_constant(xData) #add constant term to xData to fit intercept\n",
        "\n",
        "    model = sm.OLS(yData, xData).fit() #fit OLS regression model to the data\n",
        "\n",
        "    #print results: \n",
        "    print(\"Slope:\", model.params[1]) #printing the slope; model.params[1] contains slope\n",
        "    print(\"Intercept:\", model.params[0]) #printing the intercept; model.params[0] contains intercept \n",
        "    print(\"R-squared:\", model.rsquared) #model.rsquared prints R-squared value \n",
        "else:\n",
        "    print(\"Error: xData and yData columns not found\") #print an error message if xData and yData columns are not present"
      ],
      "metadata": {
        "id": "7NAq3dsln_1s"
      },
      "execution_count": null,
      "outputs": []
    },
    {
      "cell_type": "markdown",
      "metadata": {
        "id": "wkdJybaUJ-DA"
      },
      "source": [
        "Create a basic scatter plot of xData and yData, making sure that the x and y variables are plotted on the appropriate axes. Additionally, plot the regression line on the same plot. **(5 points)**"
      ]
    },
    {
      "cell_type": "code",
      "execution_count": null,
      "metadata": {
        "id": "zNRx6hS5VHcn"
      },
      "outputs": [],
      "source": [
        "#load data from CSV file into pandas dataframe\n",
        "df = pd.read_csv(\"sample (1).csv\")\n",
        "\n",
        "#separate xData and yData columns\n",
        "xData = df[\"xData\"]\n",
        "yData = df[\"yData\"]\n",
        "\n",
        "#add constant term to xData to fit intercept\n",
        "xData = sm.add_constant(np.array(xData)) #sm.add_constant() function adds intercept to the data \n",
        "                                        #convert to a numpy array to pass it to sm.add_constant function\n",
        "\n",
        "#fit OLS regression model to the data\n",
        "model = sm.OLS(yData, xData).fit() #sm.OLS() creates ordinary least squares model; fit() fits the model to the data\n",
        "\n",
        "#create scatter plot w/ regression line\n",
        "plt.scatter(xData[:, 1], yData) #plot yData against xData using the scatter() function \n",
        "                                #xData[:, 1] extracts 2nd column in xData array\n",
        "plt.plot(xData[:, 1], model.predict(), color='red') #plot predicted values against xData w/ plot() function\n",
        "                                                    #model.predict() function returns predicted values \n",
        "plt.xlabel('xData') #label x axis \n",
        "plt.ylabel('yData') #label y axis \n",
        "plt.title('Regression Scatterplot')\n",
        "plt.show() #display "
      ]
    }
  ],
  "metadata": {
    "colab": {
      "provenance": []
    },
    "kernelspec": {
      "display_name": "Python 3",
      "name": "python3"
    },
    "language_info": {
      "name": "python"
    }
  },
  "nbformat": 4,
  "nbformat_minor": 0
}